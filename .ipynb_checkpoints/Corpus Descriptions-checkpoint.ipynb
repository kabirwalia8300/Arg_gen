{
 "cells": [
  {
   "cell_type": "code",
   "execution_count": 1,
   "metadata": {},
   "outputs": [],
   "source": [
    "import pandas as pd\n",
    "import numpy as np\n",
    "pd.set_option('display.float_format', lambda x: '%.3f' % x)"
   ]
  },
  {
   "cell_type": "code",
   "execution_count": 2,
   "metadata": {},
   "outputs": [],
   "source": [
    "import re\n",
    "import spacy\n",
    "from spacy.lang.en.stop_words import STOP_WORDS\n",
    "\n",
    "def spacyCleanText(summary):\n",
    "    \"\"\"\n",
    "    Works well. Final function. Lemmatizes words with some basic cleaning.\n",
    "    \"\"\"\n",
    "#     stops = STOP_WORDS\n",
    "    cleanSum = re.sub('[^a-zA-Z]',' ', summary) # wanna keep all letters\n",
    "#     cleanSum = re.sub('[\\W_]+', '', summary)\n",
    "    cleanSum = cleanSum.lower()                 # write all characters in lowercase\n",
    "#     nlp = spacy.load('en')\n",
    "#     doc = nlp(cleanSum)\n",
    "#     cleanSum = ' '.join([token.lemma_ for token in doc if not token in set(stops)])\n",
    "    return (cleanSum)"
   ]
  },
  {
   "cell_type": "code",
   "execution_count": 3,
   "metadata": {},
   "outputs": [],
   "source": [
    "# dataset paths\n",
    "aspect_Reddit_path = '../Papers/Aspect_Argen/requestitem_export_9dda3a7b-56c5-4087-a995-243924251b82/reddit_training_data'\n",
    "aspect_Crawled_path = '../Papers/Aspect_Argen/requestitem_export_9dda3a7b-56c5-4087-a995-243924251b82/cc_training_data'\n",
    "aspect_training_path = '../Papers/Aspect_Argen/requestitem_export_9dda3a7b-56c5-4087-a995-243924251b82/argument_aspect_detection_v1.0/cross_topic'\n",
    "arguana_path = './Seq2Seq/args2.csv'"
   ]
  },
  {
   "cell_type": "markdown",
   "metadata": {},
   "source": [
    "# Arguana Corpus"
   ]
  },
  {
   "cell_type": "code",
   "execution_count": 4,
   "metadata": {},
   "outputs": [
    {
     "data": {
      "text/html": [
       "<div>\n",
       "<style scoped>\n",
       "    .dataframe tbody tr th:only-of-type {\n",
       "        vertical-align: middle;\n",
       "    }\n",
       "\n",
       "    .dataframe tbody tr th {\n",
       "        vertical-align: top;\n",
       "    }\n",
       "\n",
       "    .dataframe thead th {\n",
       "        text-align: right;\n",
       "    }\n",
       "</style>\n",
       "<table border=\"1\" class=\"dataframe\">\n",
       "  <thead>\n",
       "    <tr style=\"text-align: right;\">\n",
       "      <th></th>\n",
       "      <th>Topics</th>\n",
       "      <th>Sub-topics</th>\n",
       "      <th>Arguments</th>\n",
       "      <th>Counters</th>\n",
       "    </tr>\n",
       "  </thead>\n",
       "  <tbody>\n",
       "    <tr>\n",
       "      <th>0</th>\n",
       "      <td>digital-freedoms</td>\n",
       "      <td>economic-policy-law-crime-policing-digital-fre...</td>\n",
       "      <td>Online gambling affects families\\n\\nA parent w...</td>\n",
       "      <td>There is no evidence that gambling prevents pe...</td>\n",
       "    </tr>\n",
       "    <tr>\n",
       "      <th>1</th>\n",
       "      <td>digital-freedoms</td>\n",
       "      <td>economic-policy-law-crime-policing-digital-fre...</td>\n",
       "      <td>Online gambling affects families\\n\\nA parent w...</td>\n",
       "      <td>There is no evidence that gambling prevents pe...</td>\n",
       "    </tr>\n",
       "    <tr>\n",
       "      <th>2</th>\n",
       "      <td>digital-freedoms</td>\n",
       "      <td>economic-policy-law-crime-policing-digital-fre...</td>\n",
       "      <td>Online gambling encourages crime\\n\\nHuman traf...</td>\n",
       "      <td>Criminals will always try to exploit any syste...</td>\n",
       "    </tr>\n",
       "    <tr>\n",
       "      <th>3</th>\n",
       "      <td>digital-freedoms</td>\n",
       "      <td>economic-policy-law-crime-policing-digital-fre...</td>\n",
       "      <td>Gambling is addictive.\\n\\nHumans get a buzz fr...</td>\n",
       "      <td>Unlike drugs, gambling is not physically or me...</td>\n",
       "    </tr>\n",
       "    <tr>\n",
       "      <th>4</th>\n",
       "      <td>digital-freedoms</td>\n",
       "      <td>economic-policy-law-crime-policing-digital-fre...</td>\n",
       "      <td>Gambling is addictive.\\n\\nHumans get a buzz fr...</td>\n",
       "      <td>Unlike drugs, gambling is not physically or me...</td>\n",
       "    </tr>\n",
       "    <tr>\n",
       "      <th>5</th>\n",
       "      <td>digital-freedoms</td>\n",
       "      <td>economic-policy-law-crime-policing-digital-fre...</td>\n",
       "      <td>Gambling is bad for you.\\n\\nGamblers may win m...</td>\n",
       "      <td>Every leisure industry attracts a few troubled...</td>\n",
       "    </tr>\n",
       "    <tr>\n",
       "      <th>6</th>\n",
       "      <td>digital-freedoms</td>\n",
       "      <td>economic-policy-law-crime-policing-digital-fre...</td>\n",
       "      <td>Gambling is bad for you.\\n\\nGamblers may win m...</td>\n",
       "      <td>Every leisure industry attracts a few troubled...</td>\n",
       "    </tr>\n",
       "    <tr>\n",
       "      <th>7</th>\n",
       "      <td>digital-freedoms</td>\n",
       "      <td>economic-policy-law-crime-policing-digital-fre...</td>\n",
       "      <td>Online gambling encourages crime\\n\\nHuman traf...</td>\n",
       "      <td>Criminals will always try to exploit any syste...</td>\n",
       "    </tr>\n",
       "    <tr>\n",
       "      <th>8</th>\n",
       "      <td>digital-freedoms</td>\n",
       "      <td>economic-policy-law-crime-policing-digital-fre...</td>\n",
       "      <td>Government only objects to online gambling bec...</td>\n",
       "      <td>Because people will gamble anyway, the best th...</td>\n",
       "    </tr>\n",
       "    <tr>\n",
       "      <th>9</th>\n",
       "      <td>digital-freedoms</td>\n",
       "      <td>economic-policy-law-crime-policing-digital-fre...</td>\n",
       "      <td>Cant enforce an online gambling ban\\n\\nGovernm...</td>\n",
       "      <td>Governments have the power to ban online gambl...</td>\n",
       "    </tr>\n",
       "  </tbody>\n",
       "</table>\n",
       "</div>"
      ],
      "text/plain": [
       "             Topics                                         Sub-topics  \\\n",
       "0  digital-freedoms  economic-policy-law-crime-policing-digital-fre...   \n",
       "1  digital-freedoms  economic-policy-law-crime-policing-digital-fre...   \n",
       "2  digital-freedoms  economic-policy-law-crime-policing-digital-fre...   \n",
       "3  digital-freedoms  economic-policy-law-crime-policing-digital-fre...   \n",
       "4  digital-freedoms  economic-policy-law-crime-policing-digital-fre...   \n",
       "5  digital-freedoms  economic-policy-law-crime-policing-digital-fre...   \n",
       "6  digital-freedoms  economic-policy-law-crime-policing-digital-fre...   \n",
       "7  digital-freedoms  economic-policy-law-crime-policing-digital-fre...   \n",
       "8  digital-freedoms  economic-policy-law-crime-policing-digital-fre...   \n",
       "9  digital-freedoms  economic-policy-law-crime-policing-digital-fre...   \n",
       "\n",
       "                                           Arguments  \\\n",
       "0  Online gambling affects families\\n\\nA parent w...   \n",
       "1  Online gambling affects families\\n\\nA parent w...   \n",
       "2  Online gambling encourages crime\\n\\nHuman traf...   \n",
       "3  Gambling is addictive.\\n\\nHumans get a buzz fr...   \n",
       "4  Gambling is addictive.\\n\\nHumans get a buzz fr...   \n",
       "5  Gambling is bad for you.\\n\\nGamblers may win m...   \n",
       "6  Gambling is bad for you.\\n\\nGamblers may win m...   \n",
       "7  Online gambling encourages crime\\n\\nHuman traf...   \n",
       "8  Government only objects to online gambling bec...   \n",
       "9  Cant enforce an online gambling ban\\n\\nGovernm...   \n",
       "\n",
       "                                            Counters  \n",
       "0  There is no evidence that gambling prevents pe...  \n",
       "1  There is no evidence that gambling prevents pe...  \n",
       "2  Criminals will always try to exploit any syste...  \n",
       "3  Unlike drugs, gambling is not physically or me...  \n",
       "4  Unlike drugs, gambling is not physically or me...  \n",
       "5  Every leisure industry attracts a few troubled...  \n",
       "6  Every leisure industry attracts a few troubled...  \n",
       "7  Criminals will always try to exploit any syste...  \n",
       "8  Because people will gamble anyway, the best th...  \n",
       "9  Governments have the power to ban online gambl...  "
      ]
     },
     "execution_count": 4,
     "metadata": {},
     "output_type": "execute_result"
    }
   ],
   "source": [
    "arguana = pd.read_csv(arguana_path)\n",
    "del arguana['Unnamed: 0']\n",
    "arguana.head(10)"
   ]
  },
  {
   "cell_type": "code",
   "execution_count": 5,
   "metadata": {},
   "outputs": [],
   "source": [
    "arguana['Arguments'] = [spacyCleanText(arg) for arg in arguana['Arguments']]\n",
    "arguana['Counters'] = [spacyCleanText(arg) for arg in arguana['Counters']]\n",
    "arguana['Characters_Args'] = [len(arg) for arg in arguana['Arguments']]\n",
    "wordList = [arg.split() for arg in arguana['Arguments']]\n",
    "arguana['NumWords_Args'] = [len(x) for x in wordList]"
   ]
  },
  {
   "cell_type": "code",
   "execution_count": 6,
   "metadata": {},
   "outputs": [
    {
     "data": {
      "text/html": [
       "<div>\n",
       "<style scoped>\n",
       "    .dataframe tbody tr th:only-of-type {\n",
       "        vertical-align: middle;\n",
       "    }\n",
       "\n",
       "    .dataframe tbody tr th {\n",
       "        vertical-align: top;\n",
       "    }\n",
       "\n",
       "    .dataframe thead th {\n",
       "        text-align: right;\n",
       "    }\n",
       "</style>\n",
       "<table border=\"1\" class=\"dataframe\">\n",
       "  <thead>\n",
       "    <tr style=\"text-align: right;\">\n",
       "      <th></th>\n",
       "      <th>Topics</th>\n",
       "      <th>Sub-topics</th>\n",
       "      <th>Arguments</th>\n",
       "      <th>Counters</th>\n",
       "      <th>Characters_Args</th>\n",
       "      <th>NumWords_Args</th>\n",
       "    </tr>\n",
       "  </thead>\n",
       "  <tbody>\n",
       "    <tr>\n",
       "      <th>0</th>\n",
       "      <td>digital-freedoms</td>\n",
       "      <td>economic-policy-law-crime-policing-digital-fre...</td>\n",
       "      <td>online gambling affects families  a parent who...</td>\n",
       "      <td>there is no evidence that gambling prevents pe...</td>\n",
       "      <td>526</td>\n",
       "      <td>83</td>\n",
       "    </tr>\n",
       "    <tr>\n",
       "      <th>1</th>\n",
       "      <td>digital-freedoms</td>\n",
       "      <td>economic-policy-law-crime-policing-digital-fre...</td>\n",
       "      <td>online gambling affects families  a parent who...</td>\n",
       "      <td>there is no evidence that gambling prevents pe...</td>\n",
       "      <td>526</td>\n",
       "      <td>83</td>\n",
       "    </tr>\n",
       "    <tr>\n",
       "      <th>2</th>\n",
       "      <td>digital-freedoms</td>\n",
       "      <td>economic-policy-law-crime-policing-digital-fre...</td>\n",
       "      <td>online gambling encourages crime  human traffi...</td>\n",
       "      <td>criminals will always try to exploit any syste...</td>\n",
       "      <td>790</td>\n",
       "      <td>130</td>\n",
       "    </tr>\n",
       "    <tr>\n",
       "      <th>3</th>\n",
       "      <td>digital-freedoms</td>\n",
       "      <td>economic-policy-law-crime-policing-digital-fre...</td>\n",
       "      <td>gambling is addictive   humans get a buzz from...</td>\n",
       "      <td>unlike drugs  gambling is not physically or me...</td>\n",
       "      <td>592</td>\n",
       "      <td>114</td>\n",
       "    </tr>\n",
       "    <tr>\n",
       "      <th>4</th>\n",
       "      <td>digital-freedoms</td>\n",
       "      <td>economic-policy-law-crime-policing-digital-fre...</td>\n",
       "      <td>gambling is addictive   humans get a buzz from...</td>\n",
       "      <td>unlike drugs  gambling is not physically or me...</td>\n",
       "      <td>592</td>\n",
       "      <td>114</td>\n",
       "    </tr>\n",
       "    <tr>\n",
       "      <th>5</th>\n",
       "      <td>digital-freedoms</td>\n",
       "      <td>economic-policy-law-crime-policing-digital-fre...</td>\n",
       "      <td>gambling is bad for you   gamblers may win mon...</td>\n",
       "      <td>every leisure industry attracts a few troubled...</td>\n",
       "      <td>502</td>\n",
       "      <td>87</td>\n",
       "    </tr>\n",
       "    <tr>\n",
       "      <th>6</th>\n",
       "      <td>digital-freedoms</td>\n",
       "      <td>economic-policy-law-crime-policing-digital-fre...</td>\n",
       "      <td>gambling is bad for you   gamblers may win mon...</td>\n",
       "      <td>every leisure industry attracts a few troubled...</td>\n",
       "      <td>502</td>\n",
       "      <td>87</td>\n",
       "    </tr>\n",
       "    <tr>\n",
       "      <th>7</th>\n",
       "      <td>digital-freedoms</td>\n",
       "      <td>economic-policy-law-crime-policing-digital-fre...</td>\n",
       "      <td>online gambling encourages crime  human traffi...</td>\n",
       "      <td>criminals will always try to exploit any syste...</td>\n",
       "      <td>790</td>\n",
       "      <td>130</td>\n",
       "    </tr>\n",
       "    <tr>\n",
       "      <th>8</th>\n",
       "      <td>digital-freedoms</td>\n",
       "      <td>economic-policy-law-crime-policing-digital-fre...</td>\n",
       "      <td>government only objects to online gambling bec...</td>\n",
       "      <td>because people will gamble anyway  the best th...</td>\n",
       "      <td>573</td>\n",
       "      <td>92</td>\n",
       "    </tr>\n",
       "    <tr>\n",
       "      <th>9</th>\n",
       "      <td>digital-freedoms</td>\n",
       "      <td>economic-policy-law-crime-policing-digital-fre...</td>\n",
       "      <td>cant enforce an online gambling ban  governmen...</td>\n",
       "      <td>governments have the power to ban online gambl...</td>\n",
       "      <td>651</td>\n",
       "      <td>106</td>\n",
       "    </tr>\n",
       "  </tbody>\n",
       "</table>\n",
       "</div>"
      ],
      "text/plain": [
       "             Topics                                         Sub-topics  \\\n",
       "0  digital-freedoms  economic-policy-law-crime-policing-digital-fre...   \n",
       "1  digital-freedoms  economic-policy-law-crime-policing-digital-fre...   \n",
       "2  digital-freedoms  economic-policy-law-crime-policing-digital-fre...   \n",
       "3  digital-freedoms  economic-policy-law-crime-policing-digital-fre...   \n",
       "4  digital-freedoms  economic-policy-law-crime-policing-digital-fre...   \n",
       "5  digital-freedoms  economic-policy-law-crime-policing-digital-fre...   \n",
       "6  digital-freedoms  economic-policy-law-crime-policing-digital-fre...   \n",
       "7  digital-freedoms  economic-policy-law-crime-policing-digital-fre...   \n",
       "8  digital-freedoms  economic-policy-law-crime-policing-digital-fre...   \n",
       "9  digital-freedoms  economic-policy-law-crime-policing-digital-fre...   \n",
       "\n",
       "                                           Arguments  \\\n",
       "0  online gambling affects families  a parent who...   \n",
       "1  online gambling affects families  a parent who...   \n",
       "2  online gambling encourages crime  human traffi...   \n",
       "3  gambling is addictive   humans get a buzz from...   \n",
       "4  gambling is addictive   humans get a buzz from...   \n",
       "5  gambling is bad for you   gamblers may win mon...   \n",
       "6  gambling is bad for you   gamblers may win mon...   \n",
       "7  online gambling encourages crime  human traffi...   \n",
       "8  government only objects to online gambling bec...   \n",
       "9  cant enforce an online gambling ban  governmen...   \n",
       "\n",
       "                                            Counters  Characters_Args  \\\n",
       "0  there is no evidence that gambling prevents pe...              526   \n",
       "1  there is no evidence that gambling prevents pe...              526   \n",
       "2  criminals will always try to exploit any syste...              790   \n",
       "3  unlike drugs  gambling is not physically or me...              592   \n",
       "4  unlike drugs  gambling is not physically or me...              592   \n",
       "5  every leisure industry attracts a few troubled...              502   \n",
       "6  every leisure industry attracts a few troubled...              502   \n",
       "7  criminals will always try to exploit any syste...              790   \n",
       "8  because people will gamble anyway  the best th...              573   \n",
       "9  governments have the power to ban online gambl...              651   \n",
       "\n",
       "   NumWords_Args  \n",
       "0             83  \n",
       "1             83  \n",
       "2            130  \n",
       "3            114  \n",
       "4            114  \n",
       "5             87  \n",
       "6             87  \n",
       "7            130  \n",
       "8             92  \n",
       "9            106  "
      ]
     },
     "execution_count": 6,
     "metadata": {},
     "output_type": "execute_result"
    }
   ],
   "source": [
    "arguana.head(10)"
   ]
  },
  {
   "cell_type": "code",
   "execution_count": 7,
   "metadata": {},
   "outputs": [
    {
     "data": {
      "text/plain": [
       "'online gambling affects families  a parent who gambles can quickly lose the money their family depends on for food and rent  it is a common cause of family break up and homelessness  so governments should get involved to protect innocent children from getting hurt      each problem gambler harmfully impacts       other people      the internet makes it easy for gamblers to bet secretly  without even leaving the house  so people become addicted to gambling without their families realising what is going on until too late  '"
      ]
     },
     "execution_count": 7,
     "metadata": {},
     "output_type": "execute_result"
    }
   ],
   "source": [
    "arguana['Arguments'][0]"
   ]
  },
  {
   "cell_type": "code",
   "execution_count": 8,
   "metadata": {},
   "outputs": [
    {
     "data": {
      "text/html": [
       "<div>\n",
       "<style scoped>\n",
       "    .dataframe tbody tr th:only-of-type {\n",
       "        vertical-align: middle;\n",
       "    }\n",
       "\n",
       "    .dataframe tbody tr th {\n",
       "        vertical-align: top;\n",
       "    }\n",
       "\n",
       "    .dataframe thead th {\n",
       "        text-align: right;\n",
       "    }\n",
       "</style>\n",
       "<table border=\"1\" class=\"dataframe\">\n",
       "  <thead>\n",
       "    <tr style=\"text-align: right;\">\n",
       "      <th></th>\n",
       "      <th>Characters_Args</th>\n",
       "      <th>NumWords_Args</th>\n",
       "    </tr>\n",
       "  </thead>\n",
       "  <tbody>\n",
       "    <tr>\n",
       "      <th>count</th>\n",
       "      <td>8024.000</td>\n",
       "      <td>8024.000</td>\n",
       "    </tr>\n",
       "    <tr>\n",
       "      <th>mean</th>\n",
       "      <td>1304.014</td>\n",
       "      <td>206.035</td>\n",
       "    </tr>\n",
       "    <tr>\n",
       "      <th>std</th>\n",
       "      <td>640.391</td>\n",
       "      <td>99.766</td>\n",
       "    </tr>\n",
       "    <tr>\n",
       "      <th>min</th>\n",
       "      <td>245.000</td>\n",
       "      <td>41.000</td>\n",
       "    </tr>\n",
       "    <tr>\n",
       "      <th>25%</th>\n",
       "      <td>884.000</td>\n",
       "      <td>140.000</td>\n",
       "    </tr>\n",
       "    <tr>\n",
       "      <th>50%</th>\n",
       "      <td>1165.500</td>\n",
       "      <td>185.000</td>\n",
       "    </tr>\n",
       "    <tr>\n",
       "      <th>75%</th>\n",
       "      <td>1554.500</td>\n",
       "      <td>247.000</td>\n",
       "    </tr>\n",
       "    <tr>\n",
       "      <th>max</th>\n",
       "      <td>5375.000</td>\n",
       "      <td>884.000</td>\n",
       "    </tr>\n",
       "  </tbody>\n",
       "</table>\n",
       "</div>"
      ],
      "text/plain": [
       "       Characters_Args  NumWords_Args\n",
       "count         8024.000       8024.000\n",
       "mean          1304.014        206.035\n",
       "std            640.391         99.766\n",
       "min            245.000         41.000\n",
       "25%            884.000        140.000\n",
       "50%           1165.500        185.000\n",
       "75%           1554.500        247.000\n",
       "max           5375.000        884.000"
      ]
     },
     "execution_count": 8,
     "metadata": {},
     "output_type": "execute_result"
    }
   ],
   "source": [
    "arguana.describe()"
   ]
  },
  {
   "cell_type": "code",
   "execution_count": 9,
   "metadata": {},
   "outputs": [
    {
     "data": {
      "text/plain": [
       "count                                                  8024\n",
       "unique                                                 3059\n",
       "top       prison reform is politically unachievable  the...\n",
       "freq                                                      8\n",
       "Name: Arguments, dtype: object"
      ]
     },
     "execution_count": 9,
     "metadata": {},
     "output_type": "execute_result"
    }
   ],
   "source": [
    "arguana['Arguments'].describe()"
   ]
  },
  {
   "cell_type": "code",
   "execution_count": 10,
   "metadata": {},
   "outputs": [
    {
     "data": {
      "text/html": [
       "<div>\n",
       "<style scoped>\n",
       "    .dataframe tbody tr th:only-of-type {\n",
       "        vertical-align: middle;\n",
       "    }\n",
       "\n",
       "    .dataframe tbody tr th {\n",
       "        vertical-align: top;\n",
       "    }\n",
       "\n",
       "    .dataframe thead th {\n",
       "        text-align: right;\n",
       "    }\n",
       "</style>\n",
       "<table border=\"1\" class=\"dataframe\">\n",
       "  <thead>\n",
       "    <tr style=\"text-align: right;\">\n",
       "      <th></th>\n",
       "      <th>Characters_Args</th>\n",
       "      <th>NumWords_Args</th>\n",
       "    </tr>\n",
       "  </thead>\n",
       "  <tbody>\n",
       "    <tr>\n",
       "      <th>count</th>\n",
       "      <td>3059.000</td>\n",
       "      <td>3059.000</td>\n",
       "    </tr>\n",
       "    <tr>\n",
       "      <th>mean</th>\n",
       "      <td>1292.013</td>\n",
       "      <td>204.502</td>\n",
       "    </tr>\n",
       "    <tr>\n",
       "      <th>std</th>\n",
       "      <td>623.361</td>\n",
       "      <td>97.062</td>\n",
       "    </tr>\n",
       "    <tr>\n",
       "      <th>min</th>\n",
       "      <td>245.000</td>\n",
       "      <td>41.000</td>\n",
       "    </tr>\n",
       "    <tr>\n",
       "      <th>25%</th>\n",
       "      <td>880.000</td>\n",
       "      <td>140.000</td>\n",
       "    </tr>\n",
       "    <tr>\n",
       "      <th>50%</th>\n",
       "      <td>1165.000</td>\n",
       "      <td>185.000</td>\n",
       "    </tr>\n",
       "    <tr>\n",
       "      <th>75%</th>\n",
       "      <td>1539.000</td>\n",
       "      <td>246.000</td>\n",
       "    </tr>\n",
       "    <tr>\n",
       "      <th>max</th>\n",
       "      <td>5375.000</td>\n",
       "      <td>884.000</td>\n",
       "    </tr>\n",
       "  </tbody>\n",
       "</table>\n",
       "</div>"
      ],
      "text/plain": [
       "       Characters_Args  NumWords_Args\n",
       "count         3059.000       3059.000\n",
       "mean          1292.013        204.502\n",
       "std            623.361         97.062\n",
       "min            245.000         41.000\n",
       "25%            880.000        140.000\n",
       "50%           1165.000        185.000\n",
       "75%           1539.000        246.000\n",
       "max           5375.000        884.000"
      ]
     },
     "execution_count": 10,
     "metadata": {},
     "output_type": "execute_result"
    }
   ],
   "source": [
    "arguana = arguana.drop_duplicates(subset='Arguments', keep=\"first\")\n",
    "arguana.describe()"
   ]
  },
  {
   "cell_type": "code",
   "execution_count": 11,
   "metadata": {},
   "outputs": [],
   "source": [
    "# arguana.loc[arguana['NumWords_Args'] == 884]['Arguments'] \n",
    "# 1551, 1554, 5267, 5270\n",
    "# arguana['Arguments'][1551]"
   ]
  },
  {
   "cell_type": "markdown",
   "metadata": {},
   "source": [
    "NOTE: Arguana contains dublicates and so 8024 isn't the correct length. More like ~3000."
   ]
  },
  {
   "cell_type": "markdown",
   "metadata": {},
   "source": [
    "# Aspect Controlled Generation Paper: Reddit data (finetuning)"
   ]
  },
  {
   "cell_type": "code",
   "execution_count": 12,
   "metadata": {},
   "outputs": [],
   "source": [
    "import jsonlines\n",
    "import os\n",
    "\n",
    "reddit_Args = []\n",
    "for subdir, dirs, files in os.walk(aspect_Reddit_path):\n",
    "    for file in files:\n",
    "        path = os.path.join(subdir, file)\n",
    "        if path[-1] is 'l':\n",
    "            with jsonlines.open(path) as f:\n",
    "                for line in f.iter():\n",
    "                    reddit_Args.append(line['sent'])\n"
   ]
  },
  {
   "cell_type": "code",
   "execution_count": 13,
   "metadata": {},
   "outputs": [],
   "source": [
    "reddit = pd.DataFrame()\n",
    "reddit['Comments']=reddit_Args\n",
    "# reddit['Comments'] = [spacyCleanText(arg) for arg in reddit['Comments']]\n",
    "reddit['Comments'] = reddit['Comments'].apply(spacyCleanText)\n",
    "reddit['Characters'] = [len(arg) for arg in reddit['Comments']]\n",
    "wordList = [arg.split() for arg in reddit['Comments']]\n",
    "reddit['NumWords_Args'] = [len(x) for x in wordList]"
   ]
  },
  {
   "cell_type": "code",
   "execution_count": 14,
   "metadata": {},
   "outputs": [
    {
     "data": {
      "text/html": [
       "<div>\n",
       "<style scoped>\n",
       "    .dataframe tbody tr th:only-of-type {\n",
       "        vertical-align: middle;\n",
       "    }\n",
       "\n",
       "    .dataframe tbody tr th {\n",
       "        vertical-align: top;\n",
       "    }\n",
       "\n",
       "    .dataframe thead th {\n",
       "        text-align: right;\n",
       "    }\n",
       "</style>\n",
       "<table border=\"1\" class=\"dataframe\">\n",
       "  <thead>\n",
       "    <tr style=\"text-align: right;\">\n",
       "      <th></th>\n",
       "      <th>Characters</th>\n",
       "      <th>NumWords_Args</th>\n",
       "    </tr>\n",
       "  </thead>\n",
       "  <tbody>\n",
       "    <tr>\n",
       "      <th>count</th>\n",
       "      <td>3637603.000</td>\n",
       "      <td>3637603.000</td>\n",
       "    </tr>\n",
       "    <tr>\n",
       "      <th>mean</th>\n",
       "      <td>127.139</td>\n",
       "      <td>22.462</td>\n",
       "    </tr>\n",
       "    <tr>\n",
       "      <th>std</th>\n",
       "      <td>73.083</td>\n",
       "      <td>12.658</td>\n",
       "    </tr>\n",
       "    <tr>\n",
       "      <th>min</th>\n",
       "      <td>7.000</td>\n",
       "      <td>1.000</td>\n",
       "    </tr>\n",
       "    <tr>\n",
       "      <th>25%</th>\n",
       "      <td>77.000</td>\n",
       "      <td>14.000</td>\n",
       "    </tr>\n",
       "    <tr>\n",
       "      <th>50%</th>\n",
       "      <td>113.000</td>\n",
       "      <td>20.000</td>\n",
       "    </tr>\n",
       "    <tr>\n",
       "      <th>75%</th>\n",
       "      <td>161.000</td>\n",
       "      <td>28.000</td>\n",
       "    </tr>\n",
       "    <tr>\n",
       "      <th>max</th>\n",
       "      <td>3646.000</td>\n",
       "      <td>177.000</td>\n",
       "    </tr>\n",
       "  </tbody>\n",
       "</table>\n",
       "</div>"
      ],
      "text/plain": [
       "       Characters  NumWords_Args\n",
       "count 3637603.000    3637603.000\n",
       "mean      127.139         22.462\n",
       "std        73.083         12.658\n",
       "min         7.000          1.000\n",
       "25%        77.000         14.000\n",
       "50%       113.000         20.000\n",
       "75%       161.000         28.000\n",
       "max      3646.000        177.000"
      ]
     },
     "execution_count": 14,
     "metadata": {},
     "output_type": "execute_result"
    }
   ],
   "source": [
    "reddit.describe()"
   ]
  },
  {
   "cell_type": "code",
   "execution_count": 15,
   "metadata": {},
   "outputs": [
    {
     "data": {
      "text/plain": [
       "Series([], Name: Comments, dtype: object)"
      ]
     },
     "execution_count": 15,
     "metadata": {},
     "output_type": "execute_result"
    }
   ],
   "source": [
    "reddit.loc[reddit['NumWords_Args'] == 187]['Comments']"
   ]
  },
  {
   "cell_type": "code",
   "execution_count": 16,
   "metadata": {},
   "outputs": [
    {
     "data": {
      "text/plain": [
       "'and also i know someone that has a maid that her mother died   he told her to go visit her family for at least   months and she refused her self saying that her mother just died what would be going to thier do anything she isn   t coming from death just because i came there   that   s not even a thing i think you are talking about the   punishment of having sex before marriage or after marriage with another women   while this thing exists the punishment isn   t for women only and there have to be   witnesses other then you and the women for this punishment to be a thing and it rarely happens and even if for what ever reason you were able to get   witnesses they will most likley let you go   death isn   t an easy thing to do and god has mercy   i deal with idiotic people like you almost everyday they hear rumors and think it   s true   you aren   t even better then north korean people'"
      ]
     },
     "execution_count": 16,
     "metadata": {},
     "output_type": "execute_result"
    }
   ],
   "source": [
    "reddit['Comments'][2892664]"
   ]
  },
  {
   "cell_type": "markdown",
   "metadata": {},
   "source": [
    "# Aspect Controlled Generation Paper: Crawled data (finetuning)"
   ]
  },
  {
   "cell_type": "markdown",
   "metadata": {},
   "source": [
    "Done only for first 3637603 arguments due to large size. "
   ]
  },
  {
   "cell_type": "code",
   "execution_count": 17,
   "metadata": {},
   "outputs": [
    {
     "data": {
      "text/plain": [
       "12602343"
      ]
     },
     "execution_count": 17,
     "metadata": {},
     "output_type": "execute_result"
    }
   ],
   "source": [
    "crawled_Args = []\n",
    "for subdir, dirs, files in os.walk(aspect_Crawled_path):\n",
    "    for file in files:\n",
    "        path = os.path.join(subdir, file)\n",
    "        if path[-1] is 'l':\n",
    "            with jsonlines.open(path) as f:\n",
    "                for line in f.iter():\n",
    "                    crawled_Args.append(line['sent'])\n",
    "len(crawled_Args)"
   ]
  },
  {
   "cell_type": "code",
   "execution_count": 18,
   "metadata": {},
   "outputs": [],
   "source": [
    "crawled = pd.DataFrame()\n",
    "crawled['Arguments']=crawled_Args[0:3637603]\n",
    "crawled['Arguments'] = [spacyCleanText(arg) for arg in crawled['Arguments']]\n",
    "crawled['Characters'] = [len(arg) for arg in crawled['Arguments']]\n",
    "wordList = [arg.split() for arg in crawled['Arguments']]\n",
    "crawled['NumWords_Args'] = [len(x) for x in wordList]"
   ]
  },
  {
   "cell_type": "code",
   "execution_count": 19,
   "metadata": {},
   "outputs": [
    {
     "data": {
      "text/html": [
       "<div>\n",
       "<style scoped>\n",
       "    .dataframe tbody tr th:only-of-type {\n",
       "        vertical-align: middle;\n",
       "    }\n",
       "\n",
       "    .dataframe tbody tr th {\n",
       "        vertical-align: top;\n",
       "    }\n",
       "\n",
       "    .dataframe thead th {\n",
       "        text-align: right;\n",
       "    }\n",
       "</style>\n",
       "<table border=\"1\" class=\"dataframe\">\n",
       "  <thead>\n",
       "    <tr style=\"text-align: right;\">\n",
       "      <th></th>\n",
       "      <th>Characters</th>\n",
       "      <th>NumWords_Args</th>\n",
       "    </tr>\n",
       "  </thead>\n",
       "  <tbody>\n",
       "    <tr>\n",
       "      <th>count</th>\n",
       "      <td>3637603.000</td>\n",
       "      <td>3637603.000</td>\n",
       "    </tr>\n",
       "    <tr>\n",
       "      <th>mean</th>\n",
       "      <td>193.434</td>\n",
       "      <td>30.071</td>\n",
       "    </tr>\n",
       "    <tr>\n",
       "      <th>std</th>\n",
       "      <td>95.965</td>\n",
       "      <td>14.410</td>\n",
       "    </tr>\n",
       "    <tr>\n",
       "      <th>min</th>\n",
       "      <td>10.000</td>\n",
       "      <td>1.000</td>\n",
       "    </tr>\n",
       "    <tr>\n",
       "      <th>25%</th>\n",
       "      <td>128.000</td>\n",
       "      <td>20.000</td>\n",
       "    </tr>\n",
       "    <tr>\n",
       "      <th>50%</th>\n",
       "      <td>177.000</td>\n",
       "      <td>28.000</td>\n",
       "    </tr>\n",
       "    <tr>\n",
       "      <th>75%</th>\n",
       "      <td>239.000</td>\n",
       "      <td>37.000</td>\n",
       "    </tr>\n",
       "    <tr>\n",
       "      <th>max</th>\n",
       "      <td>1161.000</td>\n",
       "      <td>171.000</td>\n",
       "    </tr>\n",
       "  </tbody>\n",
       "</table>\n",
       "</div>"
      ],
      "text/plain": [
       "       Characters  NumWords_Args\n",
       "count 3637603.000    3637603.000\n",
       "mean      193.434         30.071\n",
       "std        95.965         14.410\n",
       "min        10.000          1.000\n",
       "25%       128.000         20.000\n",
       "50%       177.000         28.000\n",
       "75%       239.000         37.000\n",
       "max      1161.000        171.000"
      ]
     },
     "execution_count": 19,
     "metadata": {},
     "output_type": "execute_result"
    }
   ],
   "source": [
    "crawled.describe()"
   ]
  },
  {
   "cell_type": "markdown",
   "metadata": {},
   "source": [
    "# Aspect Controlled Generation Paper: Training data "
   ]
  },
  {
   "cell_type": "code",
   "execution_count": 20,
   "metadata": {},
   "outputs": [],
   "source": [
    "training_Args = []\n",
    "for subdir, dirs, files in os.walk(aspect_training_path):\n",
    "    for file in files:\n",
    "        path = os.path.join(subdir, file)\n",
    "        if path[-1] is 'l':\n",
    "            with jsonlines.open(path) as f:\n",
    "                for line in f.iter():\n",
    "                    training_Args.append(line['sentence'])\n"
   ]
  },
  {
   "cell_type": "code",
   "execution_count": 21,
   "metadata": {},
   "outputs": [],
   "source": [
    "training = pd.DataFrame()\n",
    "training['Arguments']=training_Args\n",
    "training['Arguments'] = [spacyCleanText(arg) for arg in training['Arguments']]\n",
    "training['Characters'] = [len(arg) for arg in training['Arguments']]\n",
    "wordList = [arg.split() for arg in training['Arguments']]\n",
    "training['NumWords_Args'] = [len(x) for x in wordList]"
   ]
  },
  {
   "cell_type": "code",
   "execution_count": 22,
   "metadata": {},
   "outputs": [
    {
     "data": {
      "text/html": [
       "<div>\n",
       "<style scoped>\n",
       "    .dataframe tbody tr th:only-of-type {\n",
       "        vertical-align: middle;\n",
       "    }\n",
       "\n",
       "    .dataframe tbody tr th {\n",
       "        vertical-align: top;\n",
       "    }\n",
       "\n",
       "    .dataframe thead th {\n",
       "        text-align: right;\n",
       "    }\n",
       "</style>\n",
       "<table border=\"1\" class=\"dataframe\">\n",
       "  <thead>\n",
       "    <tr style=\"text-align: right;\">\n",
       "      <th></th>\n",
       "      <th>Characters</th>\n",
       "      <th>NumWords_Args</th>\n",
       "    </tr>\n",
       "  </thead>\n",
       "  <tbody>\n",
       "    <tr>\n",
       "      <th>count</th>\n",
       "      <td>5032.000</td>\n",
       "      <td>5032.000</td>\n",
       "    </tr>\n",
       "    <tr>\n",
       "      <th>mean</th>\n",
       "      <td>141.432</td>\n",
       "      <td>23.099</td>\n",
       "    </tr>\n",
       "    <tr>\n",
       "      <th>std</th>\n",
       "      <td>67.789</td>\n",
       "      <td>10.920</td>\n",
       "    </tr>\n",
       "    <tr>\n",
       "      <th>min</th>\n",
       "      <td>18.000</td>\n",
       "      <td>2.000</td>\n",
       "    </tr>\n",
       "    <tr>\n",
       "      <th>25%</th>\n",
       "      <td>90.000</td>\n",
       "      <td>15.000</td>\n",
       "    </tr>\n",
       "    <tr>\n",
       "      <th>50%</th>\n",
       "      <td>130.000</td>\n",
       "      <td>22.000</td>\n",
       "    </tr>\n",
       "    <tr>\n",
       "      <th>75%</th>\n",
       "      <td>180.000</td>\n",
       "      <td>29.000</td>\n",
       "    </tr>\n",
       "    <tr>\n",
       "      <th>max</th>\n",
       "      <td>448.000</td>\n",
       "      <td>66.000</td>\n",
       "    </tr>\n",
       "  </tbody>\n",
       "</table>\n",
       "</div>"
      ],
      "text/plain": [
       "       Characters  NumWords_Args\n",
       "count    5032.000       5032.000\n",
       "mean      141.432         23.099\n",
       "std        67.789         10.920\n",
       "min        18.000          2.000\n",
       "25%        90.000         15.000\n",
       "50%       130.000         22.000\n",
       "75%       180.000         29.000\n",
       "max       448.000         66.000"
      ]
     },
     "execution_count": 22,
     "metadata": {},
     "output_type": "execute_result"
    }
   ],
   "source": [
    "training.describe()"
   ]
  },
  {
   "cell_type": "code",
   "execution_count": null,
   "metadata": {},
   "outputs": [],
   "source": []
  }
 ],
 "metadata": {
  "kernelspec": {
   "display_name": "Python 3",
   "language": "python",
   "name": "python3"
  },
  "language_info": {
   "codemirror_mode": {
    "name": "ipython",
    "version": 3
   },
   "file_extension": ".py",
   "mimetype": "text/x-python",
   "name": "python",
   "nbconvert_exporter": "python",
   "pygments_lexer": "ipython3",
   "version": "3.7.6"
  }
 },
 "nbformat": 4,
 "nbformat_minor": 4
}
