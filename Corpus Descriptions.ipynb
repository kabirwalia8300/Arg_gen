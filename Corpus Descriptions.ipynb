{
 "cells": [
  {
   "cell_type": "code",
   "execution_count": 1,
   "metadata": {},
   "outputs": [],
   "source": [
    "import pandas as pd\n",
    "import numpy as np\n",
    "pd.set_option('display.float_format', lambda x: '%.3f' % x)"
   ]
  },
  {
   "cell_type": "code",
   "execution_count": 2,
   "metadata": {},
   "outputs": [],
   "source": [
    "import re\n",
    "import spacy\n",
    "from spacy.lang.en.stop_words import STOP_WORDS\n",
    "\n",
    "def spacyCleanText(summary):\n",
    "    \"\"\"\n",
    "    Works well. Final function. Lemmatizes words with some basic cleaning.\n",
    "    \"\"\"\n",
    "#     stops = STOP_WORDS\n",
    "    cleanSum = re.sub('[^a-zA-Z]',' ', summary) # wanna keep all letters\n",
    "    cleanSum = cleanSum.lower()                 # write all characters in lowercase\n",
    "#     nlp = spacy.load('en')\n",
    "#     doc = nlp(cleanSum)\n",
    "#     cleanSum = ' '.join([token.lemma_ for token in doc if not token in set(stops)])\n",
    "    return (cleanSum)"
   ]
  },
  {
   "cell_type": "code",
   "execution_count": 3,
   "metadata": {},
   "outputs": [],
   "source": [
    "# dataset paths\n",
    "aspect_Reddit_path = './Papers/Aspect_Argen/requestitem_export_9dda3a7b-56c5-4087-a995-243924251b82/reddit_training_data'\n",
    "aspect_Crawled_path = './Papers/Aspect_Argen/requestitem_export_9dda3a7b-56c5-4087-a995-243924251b82/cc_training_data'\n",
    "aspect_training_path = './Papers/Aspect_Argen/requestitem_export_9dda3a7b-56c5-4087-a995-243924251b82/argument_aspect_detection_v1.0/cross_topic'\n",
    "arguana_path = './Argument_Generation/args.csv'"
   ]
  },
  {
   "cell_type": "markdown",
   "metadata": {},
   "source": [
    "# Arguana Corpus"
   ]
  },
  {
   "cell_type": "code",
   "execution_count": 4,
   "metadata": {},
   "outputs": [],
   "source": [
    "arguana = pd.read_csv(arguana_path)"
   ]
  },
  {
   "cell_type": "code",
   "execution_count": 5,
   "metadata": {},
   "outputs": [],
   "source": [
    "arguana['Arguments'] = [spacyCleanText(arg) for arg in arguana['Arguments']]\n",
    "arguana['Counters'] = [spacyCleanText(arg) for arg in arguana['Counters']]\n",
    "arguana['Characters_Args'] = [len(arg) for arg in arguana['Arguments']]\n",
    "wordList = [arg.split() for arg in arguana['Arguments']]\n",
    "arguana['NumWords_Args'] = [len(x) for x in wordList]"
   ]
  },
  {
   "cell_type": "code",
   "execution_count": 6,
   "metadata": {},
   "outputs": [
    {
     "data": {
      "text/html": [
       "<div>\n",
       "<style scoped>\n",
       "    .dataframe tbody tr th:only-of-type {\n",
       "        vertical-align: middle;\n",
       "    }\n",
       "\n",
       "    .dataframe tbody tr th {\n",
       "        vertical-align: top;\n",
       "    }\n",
       "\n",
       "    .dataframe thead th {\n",
       "        text-align: right;\n",
       "    }\n",
       "</style>\n",
       "<table border=\"1\" class=\"dataframe\">\n",
       "  <thead>\n",
       "    <tr style=\"text-align: right;\">\n",
       "      <th></th>\n",
       "      <th>Characters_Args</th>\n",
       "      <th>NumWords_Args</th>\n",
       "    </tr>\n",
       "  </thead>\n",
       "  <tbody>\n",
       "    <tr>\n",
       "      <th>count</th>\n",
       "      <td>8024.000</td>\n",
       "      <td>8024.000</td>\n",
       "    </tr>\n",
       "    <tr>\n",
       "      <th>mean</th>\n",
       "      <td>1304.014</td>\n",
       "      <td>206.035</td>\n",
       "    </tr>\n",
       "    <tr>\n",
       "      <th>std</th>\n",
       "      <td>640.391</td>\n",
       "      <td>99.766</td>\n",
       "    </tr>\n",
       "    <tr>\n",
       "      <th>min</th>\n",
       "      <td>245.000</td>\n",
       "      <td>41.000</td>\n",
       "    </tr>\n",
       "    <tr>\n",
       "      <th>25%</th>\n",
       "      <td>884.000</td>\n",
       "      <td>140.000</td>\n",
       "    </tr>\n",
       "    <tr>\n",
       "      <th>50%</th>\n",
       "      <td>1165.500</td>\n",
       "      <td>185.000</td>\n",
       "    </tr>\n",
       "    <tr>\n",
       "      <th>75%</th>\n",
       "      <td>1554.500</td>\n",
       "      <td>247.000</td>\n",
       "    </tr>\n",
       "    <tr>\n",
       "      <th>max</th>\n",
       "      <td>5375.000</td>\n",
       "      <td>884.000</td>\n",
       "    </tr>\n",
       "  </tbody>\n",
       "</table>\n",
       "</div>"
      ],
      "text/plain": [
       "       Characters_Args  NumWords_Args\n",
       "count         8024.000       8024.000\n",
       "mean          1304.014        206.035\n",
       "std            640.391         99.766\n",
       "min            245.000         41.000\n",
       "25%            884.000        140.000\n",
       "50%           1165.500        185.000\n",
       "75%           1554.500        247.000\n",
       "max           5375.000        884.000"
      ]
     },
     "execution_count": 6,
     "metadata": {},
     "output_type": "execute_result"
    }
   ],
   "source": [
    "arguana.describe()"
   ]
  },
  {
   "cell_type": "code",
   "execution_count": 10,
   "metadata": {},
   "outputs": [
    {
     "data": {
      "text/plain": [
       "'the mandate falls under taxation and general welfare powers  an insurance mandate would be enforced through income tax laws  so even if a simple mandate were not a valid  regulation   it still could fall easily within congress s plenary power to tax income  for instance  anyone purchasing insurance could be given an income tax credit  and those not purchasing could be assessed an income tax penalty   the only possible constitutional restriction is an archaic provision saying that if congress imposes anything that amounts to a  head tax  or  poll tax   that is  taxing people simply as people rather than taxing their income   then it must do so uniformly  that is  the same amount per person   this technical restriction is easily avoided by using income tax laws   purists complain that taxes should be proportional to actual income and should not be used mainly to regulate economic behaviour  but our tax code  for better or worse  is riddled with such regulatory provisions and so they are clearly constitutional       in many ways  the  mandate  could be considered a tax  but a tax which people would not have to pay if they purchased health insurance  the house bill imposes a tax of      on adjusted gross income if a taxpayer is not part of a qualified health insurance program  the senate bill imposes what is called an  excise tax   a tax on transactions or events  or a  penalty tax   a tax for failing to do something  e g   filing your tax return promptly   the tax is levied for each month that an individual fails to pay premiums into a qualified health plan  taxing uninsured people helps to pay for the costs of the new regulations  the tax gives uninsured people a choice  if they stay out of the risk pool  they effectively raise other people s insurance costs  and congress taxes them to recoup some of the costs  if they join the risk pool  they do not have to pay the tax  a good analogy would be a tax on polluters who fail to install pollution control equipment  they can pay the tax or install the equipment       health insurance mandates incentivize behaviour like many other laws  at one time  the supreme court restricted the ability of congress to use its taxing power to regulate people s activities  in the early part of the   th century  the court drew a distinction between taxes designed to raise revenue  which were permissible  and taxes designed to regulate behaviour  which might not be permissible  however  this distinction was jettisoned by       and the taxing power is now recognized as a broad congressional power      moreover  congress has the power to make laws which promote the general welfare  as democratic house majority leader steny hoyer argued in november of        well  in promoting the general welfare the constitution obviously gives broad authority to congress to effect that end  the end that we re trying to effect is to make health care affordable  so i think clearly this is within our constitutional responsibility   the words  general welfare  show up in the first line of article i  section   of the us constitution   the congress shall have power to lay and collect taxes  duties  imposts and excises  to pay the debts and provide for the common defense and general welfare of the united states        the power to promote the general welfare becomes crucial when it is considered that it is impossible to create a national health insurance system and help the current    million uninsured is to mandate everyone to buy health insurance  you cannot have universal health insurance without a mandate  every country in the world that has a universal health insurance system either requires its citizens to buy health insurance  or includes its citizens in a default insurance programme automatically and taxes them for it  which is effectively the same thing   the reasons for this are simple  and have been covered hundreds of times since the current debate over universal health insurance began during the democratic presidential primaries in late       if citizens within a state are not obliged to participate in a healthcare scheme  whether privately of publicly organised   then many young and healthy people will bet on not needing insurance  and will decline to buy it  such behaviour will alter the composition of the risk pool  such that it is made up of older  sicker people with higher medical costs  and thus premiums will rise  that in turn will cause more healthy people to leave the system  this is the phenomenon of  adverse selection   ultimately you re left only with rich old sick people  and nobody else can afford insurance  this is known  somewhat histrionically  as an  insurance death spiral    states that wish to pursue the goal of creating an affordable  universally available system of healthcare  must ensure that the majority of their citizens buy into such a scheme      because there is a compelling benefit to the  general welfare  in instituting a national welfare program  the federal government may rely on constitutional authority to impose a health insurance mandate  if the states were left to do this  with some instituting a mandate and some not  many would be left uninsured and the risk pool would not be adequately spread  the difference in benefits to the country clearly justifies federal action to create this individual mandate under the constitution  '"
      ]
     },
     "execution_count": 10,
     "metadata": {},
     "output_type": "execute_result"
    }
   ],
   "source": [
    "# arguana.loc[arguana['NumWords_Args'] == 884]['Arguments'] \n",
    "# 1551, 1554, 5267, 5270\n",
    "arguana['Arguments'][1551]"
   ]
  },
  {
   "cell_type": "markdown",
   "metadata": {},
   "source": [
    "NOTE: Arguana contains dublicates and so 8024 isn't the correct length. More like ~5000."
   ]
  },
  {
   "cell_type": "markdown",
   "metadata": {},
   "source": [
    "# Aspect Controlled Generation Paper: Reddit data (finetuning)"
   ]
  },
  {
   "cell_type": "code",
   "execution_count": 11,
   "metadata": {},
   "outputs": [],
   "source": [
    "import jsonlines\n",
    "import os\n",
    "\n",
    "reddit_Args = []\n",
    "for subdir, dirs, files in os.walk(aspect_Reddit_path):\n",
    "    for file in files:\n",
    "        path = os.path.join(subdir, file)\n",
    "        if path[-1] is 'l':\n",
    "            with jsonlines.open(path) as f:\n",
    "                for line in f.iter():\n",
    "                    reddit_Args.append(line['sent'])\n"
   ]
  },
  {
   "cell_type": "code",
   "execution_count": 17,
   "metadata": {},
   "outputs": [],
   "source": [
    "reddit = pd.DataFrame()\n",
    "reddit['Comments']=reddit_Args\n",
    "# reddit['Comments'] = [spacyCleanText(arg) for arg in reddit['Comments']]\n",
    "reddit['Characters'] = [len(arg) for arg in reddit['Comments']]\n",
    "wordList = [arg.split() for arg in reddit['Comments']]\n",
    "reddit['NumWords_Args'] = [len(x) for x in wordList]"
   ]
  },
  {
   "cell_type": "code",
   "execution_count": 18,
   "metadata": {},
   "outputs": [
    {
     "data": {
      "text/html": [
       "<div>\n",
       "<style scoped>\n",
       "    .dataframe tbody tr th:only-of-type {\n",
       "        vertical-align: middle;\n",
       "    }\n",
       "\n",
       "    .dataframe tbody tr th {\n",
       "        vertical-align: top;\n",
       "    }\n",
       "\n",
       "    .dataframe thead th {\n",
       "        text-align: right;\n",
       "    }\n",
       "</style>\n",
       "<table border=\"1\" class=\"dataframe\">\n",
       "  <thead>\n",
       "    <tr style=\"text-align: right;\">\n",
       "      <th></th>\n",
       "      <th>Characters</th>\n",
       "      <th>NumWords_Args</th>\n",
       "    </tr>\n",
       "  </thead>\n",
       "  <tbody>\n",
       "    <tr>\n",
       "      <th>count</th>\n",
       "      <td>3637603.000</td>\n",
       "      <td>3637603.000</td>\n",
       "    </tr>\n",
       "    <tr>\n",
       "      <th>mean</th>\n",
       "      <td>127.139</td>\n",
       "      <td>24.695</td>\n",
       "    </tr>\n",
       "    <tr>\n",
       "      <th>std</th>\n",
       "      <td>73.083</td>\n",
       "      <td>13.787</td>\n",
       "    </tr>\n",
       "    <tr>\n",
       "      <th>min</th>\n",
       "      <td>7.000</td>\n",
       "      <td>1.000</td>\n",
       "    </tr>\n",
       "    <tr>\n",
       "      <th>25%</th>\n",
       "      <td>77.000</td>\n",
       "      <td>15.000</td>\n",
       "    </tr>\n",
       "    <tr>\n",
       "      <th>50%</th>\n",
       "      <td>113.000</td>\n",
       "      <td>22.000</td>\n",
       "    </tr>\n",
       "    <tr>\n",
       "      <th>75%</th>\n",
       "      <td>161.000</td>\n",
       "      <td>31.000</td>\n",
       "    </tr>\n",
       "    <tr>\n",
       "      <th>max</th>\n",
       "      <td>3646.000</td>\n",
       "      <td>187.000</td>\n",
       "    </tr>\n",
       "  </tbody>\n",
       "</table>\n",
       "</div>"
      ],
      "text/plain": [
       "       Characters  NumWords_Args\n",
       "count 3637603.000    3637603.000\n",
       "mean      127.139         24.695\n",
       "std        73.083         13.787\n",
       "min         7.000          1.000\n",
       "25%        77.000         15.000\n",
       "50%       113.000         22.000\n",
       "75%       161.000         31.000\n",
       "max      3646.000        187.000"
      ]
     },
     "execution_count": 18,
     "metadata": {},
     "output_type": "execute_result"
    }
   ],
   "source": [
    "reddit.describe()"
   ]
  },
  {
   "cell_type": "code",
   "execution_count": 24,
   "metadata": {},
   "outputs": [
    {
     "data": {
      "text/plain": [
       "2892664    And also I know someone that has a maid that h...\n",
       "Name: Comments, dtype: object"
      ]
     },
     "execution_count": 24,
     "metadata": {},
     "output_type": "execute_result"
    }
   ],
   "source": [
    "reddit.loc[reddit['NumWords_Args'] == 187]['Comments']"
   ]
  },
  {
   "cell_type": "code",
   "execution_count": 25,
   "metadata": {},
   "outputs": [
    {
     "data": {
      "text/plain": [
       "'And also I know someone that has a maid that her mother died , he told her to go visit her family for at least 3 months and she refused her self saying that her mother just died what would be going to thier do anything she isn ’ t coming from death just because I came there 3-that ’ s not even a thing I think you are talking about the “ punishment of having sex before marriage or after marriage with another women ” while this thing exists the punishment isn ’ t for women only and there have to be 5 Witnesses other then you and the women for this punishment to be a thing and it rarely happens and even if for what ever reason you were able to get 5 Witnesses they will most likley let you go , death isn ’ t an easy thing to do and god has mercy , I deal with idiotic people like you almost everyday they hear rumors and think it ’ s true , you aren ’ t even better then North Korean people'"
      ]
     },
     "execution_count": 25,
     "metadata": {},
     "output_type": "execute_result"
    }
   ],
   "source": [
    "reddit['Comments'][2892664]"
   ]
  },
  {
   "cell_type": "markdown",
   "metadata": {},
   "source": [
    "# Aspect Controlled Generation Paper: Crawled data (finetuning)"
   ]
  },
  {
   "cell_type": "markdown",
   "metadata": {},
   "source": [
    "Done only for first 3637603 arguments due to large size. "
   ]
  },
  {
   "cell_type": "code",
   "execution_count": 17,
   "metadata": {},
   "outputs": [
    {
     "data": {
      "text/plain": [
       "12602343"
      ]
     },
     "execution_count": 17,
     "metadata": {},
     "output_type": "execute_result"
    }
   ],
   "source": [
    "crawled_Args = []\n",
    "for subdir, dirs, files in os.walk(aspect_Crawled_path):\n",
    "    for file in files:\n",
    "        path = os.path.join(subdir, file)\n",
    "        if path[-1] is 'l':\n",
    "            with jsonlines.open(path) as f:\n",
    "                for line in f.iter():\n",
    "                    crawled_Args.append(line['sent'])\n",
    "len(crawled_Args)"
   ]
  },
  {
   "cell_type": "code",
   "execution_count": 19,
   "metadata": {},
   "outputs": [],
   "source": [
    "crawled = pd.DataFrame()\n",
    "crawled['Arguments']=crawled_Args[0:3637603]\n",
    "crawled['Arguments'] = [spacyCleanText(arg) for arg in crawled['Arguments']]\n",
    "crawled['Characters'] = [len(arg) for arg in crawled['Arguments']]\n",
    "wordList = [arg.split() for arg in crawled['Arguments']]\n",
    "crawled['NumWords_Args'] = [len(x) for x in wordList]"
   ]
  },
  {
   "cell_type": "code",
   "execution_count": 20,
   "metadata": {},
   "outputs": [
    {
     "data": {
      "text/html": [
       "<div>\n",
       "<style scoped>\n",
       "    .dataframe tbody tr th:only-of-type {\n",
       "        vertical-align: middle;\n",
       "    }\n",
       "\n",
       "    .dataframe tbody tr th {\n",
       "        vertical-align: top;\n",
       "    }\n",
       "\n",
       "    .dataframe thead th {\n",
       "        text-align: right;\n",
       "    }\n",
       "</style>\n",
       "<table border=\"1\" class=\"dataframe\">\n",
       "  <thead>\n",
       "    <tr style=\"text-align: right;\">\n",
       "      <th></th>\n",
       "      <th>Characters</th>\n",
       "      <th>NumWords_Args</th>\n",
       "    </tr>\n",
       "  </thead>\n",
       "  <tbody>\n",
       "    <tr>\n",
       "      <th>count</th>\n",
       "      <td>3637603.000</td>\n",
       "      <td>3637603.000</td>\n",
       "    </tr>\n",
       "    <tr>\n",
       "      <th>mean</th>\n",
       "      <td>193.434</td>\n",
       "      <td>30.071</td>\n",
       "    </tr>\n",
       "    <tr>\n",
       "      <th>std</th>\n",
       "      <td>95.965</td>\n",
       "      <td>14.410</td>\n",
       "    </tr>\n",
       "    <tr>\n",
       "      <th>min</th>\n",
       "      <td>10.000</td>\n",
       "      <td>1.000</td>\n",
       "    </tr>\n",
       "    <tr>\n",
       "      <th>25%</th>\n",
       "      <td>128.000</td>\n",
       "      <td>20.000</td>\n",
       "    </tr>\n",
       "    <tr>\n",
       "      <th>50%</th>\n",
       "      <td>177.000</td>\n",
       "      <td>28.000</td>\n",
       "    </tr>\n",
       "    <tr>\n",
       "      <th>75%</th>\n",
       "      <td>239.000</td>\n",
       "      <td>37.000</td>\n",
       "    </tr>\n",
       "    <tr>\n",
       "      <th>max</th>\n",
       "      <td>1161.000</td>\n",
       "      <td>171.000</td>\n",
       "    </tr>\n",
       "  </tbody>\n",
       "</table>\n",
       "</div>"
      ],
      "text/plain": [
       "       Characters  NumWords_Args\n",
       "count 3637603.000    3637603.000\n",
       "mean      193.434         30.071\n",
       "std        95.965         14.410\n",
       "min        10.000          1.000\n",
       "25%       128.000         20.000\n",
       "50%       177.000         28.000\n",
       "75%       239.000         37.000\n",
       "max      1161.000        171.000"
      ]
     },
     "execution_count": 20,
     "metadata": {},
     "output_type": "execute_result"
    }
   ],
   "source": [
    "crawled.describe()"
   ]
  },
  {
   "cell_type": "markdown",
   "metadata": {},
   "source": [
    "# Aspect Controlled Generation Paper: Training data "
   ]
  },
  {
   "cell_type": "code",
   "execution_count": 23,
   "metadata": {},
   "outputs": [
    {
     "data": {
      "text/plain": [
       "5032"
      ]
     },
     "execution_count": 23,
     "metadata": {},
     "output_type": "execute_result"
    }
   ],
   "source": [
    "training_Args = []\n",
    "for subdir, dirs, files in os.walk(aspect_training_path):\n",
    "    for file in files:\n",
    "        path = os.path.join(subdir, file)\n",
    "        if path[-1] is 'l':\n",
    "            with jsonlines.open(path) as f:\n",
    "                for line in f.iter():\n",
    "                    training_Args.append(line['sentence'])\n"
   ]
  },
  {
   "cell_type": "code",
   "execution_count": 25,
   "metadata": {},
   "outputs": [],
   "source": [
    "training = pd.DataFrame()\n",
    "training['Arguments']=training_Args\n",
    "training['Arguments'] = [spacyCleanText(arg) for arg in training['Arguments']]\n",
    "training['Characters'] = [len(arg) for arg in training['Arguments']]\n",
    "wordList = [arg.split() for arg in training['Arguments']]\n",
    "training['NumWords_Args'] = [len(x) for x in wordList]"
   ]
  },
  {
   "cell_type": "code",
   "execution_count": 26,
   "metadata": {},
   "outputs": [
    {
     "data": {
      "text/html": [
       "<div>\n",
       "<style scoped>\n",
       "    .dataframe tbody tr th:only-of-type {\n",
       "        vertical-align: middle;\n",
       "    }\n",
       "\n",
       "    .dataframe tbody tr th {\n",
       "        vertical-align: top;\n",
       "    }\n",
       "\n",
       "    .dataframe thead th {\n",
       "        text-align: right;\n",
       "    }\n",
       "</style>\n",
       "<table border=\"1\" class=\"dataframe\">\n",
       "  <thead>\n",
       "    <tr style=\"text-align: right;\">\n",
       "      <th></th>\n",
       "      <th>Characters</th>\n",
       "      <th>NumWords_Args</th>\n",
       "    </tr>\n",
       "  </thead>\n",
       "  <tbody>\n",
       "    <tr>\n",
       "      <th>count</th>\n",
       "      <td>5032.000</td>\n",
       "      <td>5032.000</td>\n",
       "    </tr>\n",
       "    <tr>\n",
       "      <th>mean</th>\n",
       "      <td>141.432</td>\n",
       "      <td>23.099</td>\n",
       "    </tr>\n",
       "    <tr>\n",
       "      <th>std</th>\n",
       "      <td>67.789</td>\n",
       "      <td>10.920</td>\n",
       "    </tr>\n",
       "    <tr>\n",
       "      <th>min</th>\n",
       "      <td>18.000</td>\n",
       "      <td>2.000</td>\n",
       "    </tr>\n",
       "    <tr>\n",
       "      <th>25%</th>\n",
       "      <td>90.000</td>\n",
       "      <td>15.000</td>\n",
       "    </tr>\n",
       "    <tr>\n",
       "      <th>50%</th>\n",
       "      <td>130.000</td>\n",
       "      <td>22.000</td>\n",
       "    </tr>\n",
       "    <tr>\n",
       "      <th>75%</th>\n",
       "      <td>180.000</td>\n",
       "      <td>29.000</td>\n",
       "    </tr>\n",
       "    <tr>\n",
       "      <th>max</th>\n",
       "      <td>448.000</td>\n",
       "      <td>66.000</td>\n",
       "    </tr>\n",
       "  </tbody>\n",
       "</table>\n",
       "</div>"
      ],
      "text/plain": [
       "       Characters  NumWords_Args\n",
       "count    5032.000       5032.000\n",
       "mean      141.432         23.099\n",
       "std        67.789         10.920\n",
       "min        18.000          2.000\n",
       "25%        90.000         15.000\n",
       "50%       130.000         22.000\n",
       "75%       180.000         29.000\n",
       "max       448.000         66.000"
      ]
     },
     "execution_count": 26,
     "metadata": {},
     "output_type": "execute_result"
    }
   ],
   "source": [
    "training.describe()"
   ]
  }
 ],
 "metadata": {
  "kernelspec": {
   "display_name": "Python 3",
   "language": "python",
   "name": "python3"
  },
  "language_info": {
   "codemirror_mode": {
    "name": "ipython",
    "version": 3
   },
   "file_extension": ".py",
   "mimetype": "text/x-python",
   "name": "python",
   "nbconvert_exporter": "python",
   "pygments_lexer": "ipython3",
   "version": "3.7.6"
  }
 },
 "nbformat": 4,
 "nbformat_minor": 4
}
